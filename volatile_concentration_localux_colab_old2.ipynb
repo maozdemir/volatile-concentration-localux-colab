{
  "cells": [
    {
      "cell_type": "markdown",
      "metadata": {
        "id": "view-in-github",
        "colab_type": "text"
      },
      "source": [
        "<a href=\"https://colab.research.google.com/github/etherealxx/volatile-concentration-localux-colab/blob/main/volatile_concentration_localux_colab.ipynb\" target=\"_parent\"><img src=\"https://colab.research.google.com/assets/colab-badge.svg\" alt=\"Open In Colab\"/></a>"
      ]
    },
    {
      "cell_type": "markdown",
      "source": [
        "##***Project `VCL-colab`***\n",
        "### All camenduru colab in one spot, synced in realtime\n",
        "###### Last time updated: Jun 14, 23"
      ],
      "metadata": {
        "id": "e78dCt3JZ6UX"
      }
    },
    {
      "cell_type": "markdown",
      "source": [
        "######\n",
        "To use:\n",
        "- Click the play button\n",
        "- Wait for less than a minute, until a UI with **big orange button** shows up\n",
        "- Choose the model you want, then click the orange button\n",
        "- Just wait for about 8 minute until the webui links shows up on the bottom\n",
        "\n",
        "About the options:\n",
        "- `repo_branch`: Read [here](https://github.com/camenduru/stable-diffusion-webui-colab) (just use `stable` as default)\n",
        "- `choose_models`: Untick this if you're relaunching the UI, or if you don't want to choose model (The webui will always download sd 1.4 model instead)\n",
        "- `controlnet_model`: Tick this if you want to download controlnet models (for controlnet usage). Untick this if you're relaunching the UI. Note that `lite` branch won't download any controlnet model regardless if this checkbox is being ticked or not."
      ],
      "metadata": {
        "id": "mRkHg3INcszO"
      }
    },
    {
      "cell_type": "markdown",
      "source": [
        "## ⠀\n",
        "(open the hidden cell to show help☝️)"
      ],
      "metadata": {
        "id": "4bsCMAOQcSIn"
      }
    },
    {
      "cell_type": "code",
      "source": [
        "#@title 👇 Run this\n",
        "repo_branch = 'stable' #@param [\"lite\", \"stable\", \"nightly\"]\n",
        "choose_models = True #@param {type:\"boolean\"}\n",
        "controlnet_models = False #@param {type:\"boolean\"}\n",
        "\n",
        "print(\"\u001b[1;32mWait for about a minute until a UI with a big orange button shows up below\")\n",
        "print('\u001b[0m')\n",
        "\n",
        "from IPython.display import clear_output\n",
        "import time\n",
        "%cd /content\n",
        "\n",
        "try:\n",
        "  start_colab\n",
        "except:\n",
        "  start_colab = int(time.time())-5\n",
        "# clear_output()\n",
        "\n",
        "%env TF_CPP_MIN_LOG_LEVEL=1\n",
        "!git clone https://github.com/etherealxx/volatile-concentration-localux-colab /content/drive/MyDrive/vcltools\n",
        "!pip install -q gradio==3.28.3\n",
        "\n",
        "colaboptions = {\n",
        "  \"branch\": repo_branch,\n",
        "  \"filename\": \"stable_diffusion_1_5_webui_colab.ipynb\",\n",
        "  \"part\": \"part2\",\n",
        "  \"controlnet\": controlnet_models,\n",
        "  \"download_model\": choose_models\n",
        "} #default\n",
        "\n",
        "import os, pickle, sys, re, shutil\n",
        "import gradio as gr\n",
        "\n",
        "vclvarpath = '/content/drive/MyDrive/vclvariables'\n",
        "os.makedirs(vclvarpath, exist_ok=True)\n",
        "!python /content/drive/MyDrive/vcltools/cloneall3.py\n",
        "!python /content/drive/MyDrive/vcltools/choosemodel4.py {repo_branch}\n",
        "\n",
        "def pickledump(vartodump, outputfile):\n",
        "  outputpath = os.path.join(vclvarpath, outputfile + '.pkl')\n",
        "  with open(outputpath, 'wb') as f:\n",
        "      pickle.dump(vartodump, f)\n",
        "\n",
        "def pickleload(prevvalue, inputfile):\n",
        "  inputpath = os.path.join(vclvarpath, inputfile + '.pkl')\n",
        "  if os.path.exists(inputpath):\n",
        "      with open(inputpath, 'rb') as f:\n",
        "          vartopass = pickle.load(f)\n",
        "          return vartopass\n",
        "  else:\n",
        "    return prevvalue\n",
        "\n",
        "sortedcolabname = pickleload(None, 'sortedcolabname')\n",
        "\n",
        "clear_output(wait=True)\n",
        "\n",
        "everycolab = f'/content/drive/MyDrive/camendurus/{repo_branch}'\n",
        "modelischosen = False\n",
        "modelchosenmessage = ''\n",
        "chosencolabname = ''\n",
        "extensionlines = []\n",
        "extensiontoremove = []\n",
        "\n",
        "def modelchosen(chosenmodel, chosenextension):\n",
        "  global modelischosen\n",
        "  global modelchosenmessage\n",
        "  global chosencolabname\n",
        "  global colaboptions\n",
        "  global choose_models\n",
        "  global extensionlines\n",
        "  global extensiontoremove\n",
        "  usedextensionlinks = []\n",
        "  # for link in extensionlines:\n",
        "  #     match = re.search(r\"https://github.com/\\S+/(\\S+)\", link)\n",
        "  #     if match:\n",
        "  #         repo_name = match.group(1)\n",
        "  #         if repo_name in chosenextension:\n",
        "  #             usedextensionlinks.append(link)\n",
        "  # pickledump(usedextensionlinks, '/content/drive/MyDrive/extensions.pkl')\n",
        "  pickledump(chosenextension, 'chosenextensions')\n",
        "  fullextension = pickleload(None, 'fullextensions')\n",
        "  extensiontoremove = [x for x in fullextension if x not in chosenextension]\n",
        "  pickledump(extensiontoremove, 'removedextensions')\n",
        "  if chosenmodel:\n",
        "    modelchosenmessage = \"\u001b[1;32mModel \" + chosenmodel + \" was chosen. It'll be downloaded soon. Continue scroll down and wait for the webui to be loaded.\"\n",
        "    textbox_text = f\"Model '{chosenmodel} was chosen. It'll be downloaded soon. Continue scroll down and wait for the webui to be loaded.\"\n",
        "    chosencolabname = chosenmodel\n",
        "  else:\n",
        "    modelchosenmessage = \"\u001b[1;32mNo model was chosen. Continue scroll down and wait for the webui to be loaded.\"\n",
        "    textbox_text = f\"No model was chosen. Continue scroll down and wait for the webui to be loaded.\"\n",
        "    choose_models = False\n",
        "    colaboptions[\"download_model\"] = False\n",
        "  modelischosen = True\n",
        "  return [gr.Button.update(visible=False), gr.Textbox.update(value=textbox_text, visible=True), gr.CheckboxGroup.update(visible=False),  gr.Dropdown.update(interactive=False)]\n",
        "\n",
        "def extensionschoose(modelthatischosen):\n",
        "    extensionlist = []\n",
        "    global colaboptions\n",
        "    global extensionlines\n",
        "    if modelthatischosen:\n",
        "        colabfilename = modelthatischosen + '_webui_colab.ipynb'\n",
        "        colaboptions[\"filename\"] = colabfilename\n",
        "        chosencolabfilepath = os.path.join(everycolab, colabfilename)\n",
        "    pickledump(colaboptions, 'colaboptions')\n",
        "\n",
        "    !python /content/drive/MyDrive/vcltools/extensioninstaller3.py\n",
        "    extensionlines = pickleload(extensionlines, 'extensions')\n",
        "\n",
        "    for ext_gitcloneline in extensionlines:\n",
        "        pattern = r\"https://github.com/\\S+/(\\S+)\"\n",
        "        match = re.search(pattern, ext_gitcloneline)\n",
        "        if match:\n",
        "            ext_name = match.group(1)\n",
        "            if not ext_name == 'sd-webui-tunnels':\n",
        "              extensionlist.append(ext_name)\n",
        "            # print(repo_name)\n",
        "    pickledump(extensionlist, 'fullextensions')\n",
        "    extensionlist.sort()\n",
        "    !python /content/drive/MyDrive/vcltools/additionalextension.py\n",
        "    templist = pickleload(None, 'tempext')\n",
        "    chosenextension = pickleload(templist, 'chosenextensions')\n",
        "    return gr.CheckboxGroup.update(choices=extensionlist, value=chosenextension, visible=True)\n",
        "\n",
        "def dumpchoice(extensionthatischosen):\n",
        "  pickledump(extensionthatischosen, 'chosenextensions')\n",
        "\n",
        "with gr.Blocks() as vclcolab:\n",
        "    with gr.Column():\n",
        "      choose = gr.Dropdown(sortedcolabname, label=\"Choose Your Model\", interactive=True)\n",
        "      confirm = gr.Button(\"Use This Model\", variant=\"primary\", visible=True)\n",
        "      donetext = gr.Textbox(\"\", label=\"\", visible=False)\n",
        "      extchooser = gr.CheckboxGroup([\"placeholder\"], label=\"Extensions\", info=\"Untick the checkboxes on those extensions that you want to disable\", visible=False, interactive=True)\n",
        "      confirm.click(modelchosen, inputs=[choose, extchooser], outputs=[confirm, donetext, extchooser, choose])\n",
        "      choose.change(extensionschoose, inputs=[choose], outputs=[extchooser])\n",
        "      extchooser.change(dumpchoice, inputs=[extchooser])\n",
        "\n",
        "gr.close_all()\n",
        "if choose_models:\n",
        "  tryport = 7860\n",
        "  while True:\n",
        "    tryport += 1\n",
        "    try:\n",
        "      print(\"\u001b[1;32mNo need to click on the public url yet. Just wait until a UI with a big orange button shows up below\")\n",
        "      print(\"\u001b[1;32mIf 'Error 404' shows instead, click the stop button twice until 'Gradio UI interrupted' message shows up, then read here:\")\n",
        "      print('\u001b[0m')\n",
        "      vclcolab.launch(server_port=tryport)\n",
        "      break\n",
        "    except OSError:\n",
        "      pass\n",
        "\n",
        "  while True:\n",
        "    try:\n",
        "      if modelischosen:\n",
        "        clear_output(wait=True)\n",
        "        print(modelchosenmessage)\n",
        "        print('\u001b[0m')\n",
        "        vclcolab.close()\n",
        "        break\n",
        "    except KeyboardInterrupt:\n",
        "      clear_output(wait=True)\n",
        "      print(\"\u001b[1;33mGradio UI interrupted\")\n",
        "      print('\u001b[0m')\n",
        "      vclcolab.close()\n",
        "      # sys.exit()\n",
        "      # os._exit(1)\n",
        "      break\n",
        "\n",
        "aria2c_lines = []\n",
        "colabfilename = ''\n",
        "chosencolabfilepath = os.path.join(everycolab, colaboptions[\"filename\"])\n",
        "\n",
        "if chosencolabname:\n",
        "   colabfilename = chosencolabname + '_webui_colab.ipynb'\n",
        "   colaboptions[\"filename\"] = colabfilename\n",
        "   chosencolabfilepath = os.path.join(everycolab, colabfilename)\n",
        "\n",
        "if os.path.exists(chosencolabfilepath):\n",
        "  print(\"\u001b[1;32mGathering aria2c code from \" + chosencolabfilepath + \"...\")\n",
        "  print('\u001b[0m')\n",
        "  with open(chosencolabfilepath, 'r', encoding='utf-8') as f:\n",
        "      for line in f:\n",
        "          stripped_line = line.strip()\n",
        "          if stripped_line.startswith('\"!aria2c'):\n",
        "              aria2c_lines.append(stripped_line)\n",
        "\n",
        "if aria2c_lines:\n",
        "  pickledump(aria2c_lines, 'arialist')\n",
        "\n",
        "pickledump(colaboptions, 'colaboptions')\n",
        "\n",
        "# !python /content/drive/MyDrive/vcltools/camendurucolab.py {colabfilename} {repo_branch} part1\n",
        "!apt -y update -qq\n",
        "!wget http://launchpadlibrarian.net/367274644/libgoogle-perftools-dev_2.5-2.2ubuntu3_amd64.deb\n",
        "!wget https://launchpad.net/ubuntu/+source/google-perftools/2.5-2.2ubuntu3/+build/14795286/+files/google-perftools_2.5-2.2ubuntu3_all.deb\n",
        "!wget https://launchpad.net/ubuntu/+source/google-perftools/2.5-2.2ubuntu3/+build/14795286/+files/libtcmalloc-minimal4_2.5-2.2ubuntu3_amd64.deb\n",
        "!wget https://launchpad.net/ubuntu/+source/google-perftools/2.5-2.2ubuntu3/+build/14795286/+files/libgoogle-perftools4_2.5-2.2ubuntu3_amd64.deb\n",
        "!apt install -qq libunwind8-dev\n",
        "!dpkg -i *.deb\n",
        "%env LD_PRELOAD=libtcmalloc.so\n",
        "!rm *.deb\n",
        "!python /content/drive/MyDrive/vcltools/camendurucolab2.py #{colabfilename} {repo_branch} part2\n",
        "!python /content/drive/MyDrive/vcltools/runaria3.py\n",
        "%cd /content/drive/MyDrive/volatile-concentration-localux\n",
        "\n",
        "if extensiontoremove:\n",
        "  for ext in extensiontoremove:\n",
        "    extpath = os.path.join('/content/drive/MyDrive/volatile-concentration-localux/extensions', ext)\n",
        "    if os.path.exists(extpath):\n",
        "      shutil.rmtree(extpath)\n",
        "      print(f\"removed {ext} extension\")\n",
        "\n",
        "# !python /content/drive/MyDrive/vcltools/camendurucolab.py {colabfilename} {repo_branch} part3\n",
        "if repo_branch == 'nightly':\n",
        "  !sed -i -e '''/from modules import launch_utils/a\\import os''' /content/drive/MyDrive/volatile-concentration-localux/launch.py\n",
        "  !sed -i -e '''/        prepare_environment()/a\\        os.system\\(f\\\"\"\"sed -i -e ''\\\"s/dict()))/dict())).cuda()/g\\\"'' /content/drive/MyDrive/volatile-concentration-localux/repositories/stable-diffusion-stability-ai/ldm/util.py\"\"\")''' /content/drive/MyDrive/volatile-concentration-localux/launch.py\n",
        "  !sed -i -e 's/\\\"sd_model_checkpoint\\\"\\]/\\\"sd_model_checkpoint\\\"\\,\\\"sd_vae\\\"\\,\\\"CLIP_stop_at_last_layers\\\"\\]/g' /content/drive/MyDrive/volatile-concentration-localux/modules/shared.py\n",
        "else:\n",
        "  !sed -i -e '''/    prepare_environment()/a\\    os.system\\(f\\\"\"\"sed -i -e ''\\\"s/dict()))/dict())).cuda()/g\\\"'' /content/drive/MyDrive/volatile-concentration-localux/repositories/stable-diffusion-stability-ai/ldm/util.py\"\"\")''' /content/drive/MyDrive/volatile-concentration-localux/launch.py\n",
        "  !sed -i -e 's/\\\"sd_model_checkpoint\\\"\\,/\\\"sd_model_checkpoint\\,sd_vae\\,CLIP_stop_at_last_layers\\\"\\,/g' /content/drive/MyDrive/volatile-concentration-localux/modules/shared.py\n",
        "\n",
        "print(\"\u001b[1;32mlaunching the webui...\")\n",
        "print('\u001b[0m')\n",
        "\n",
        "!python /content/drive/MyDrive/vcltools/setuptimer.py\n",
        "!echo -n {start_colab} > /content/drive/MyDrive/volatile-concentration-localux/static/colabTimer.txt\n",
        "!wget -q https://raw.githubusercontent.com/etherealxx/batchlinks-webui/main/notification.mp3 -P /content/drive/MyDrive/volatile-concentration-localux\n",
        "\n",
        "!python launch.py --listen --xformers --enable-insecure-extension-access --theme dark --gradio-queue --multiple"
      ],
      "metadata": {
        "cellView": "form",
        "id": "HRLSD-HXLRNk"
      },
      "execution_count": null,
      "outputs": []
    },
    {
      "cell_type": "markdown",
      "source": [
        "(If you got 'Error 404' when the big orange button is supposed to shows up, visit here:)"
      ],
      "metadata": {
        "id": "ZGlOpxFdEIB5"
      }
    },
    {
      "cell_type": "markdown",
      "source": [
        "## ⠀"
      ],
      "metadata": {
        "id": "dYiw0gLVRpTz"
      }
    },
    {
      "cell_type": "markdown",
      "source": [
        " ### (debug area)"
      ],
      "metadata": {
        "id": "0BEVRlWUcbj3"
      }
    },
    {
      "cell_type": "code",
      "source": [
        "%cd /content\n",
        "!git clone https://github.com/etherealxx/volatile-concentration-localux-colab /content/drive/MyDrive/colabtools"
      ],
      "metadata": {
        "id": "nSGdJN0OAqDL"
      },
      "execution_count": null,
      "outputs": []
    },
    {
      "cell_type": "code",
      "source": [
        "!rm -rf /content/drive/MyDrive/volatile-concentration-localux\n",
        "!rm -rf /content/drive/MyDrive/camendurus\n",
        "!rm /content/drive/MyDrive/frpc_linux_amd64"
      ],
      "metadata": {
        "id": "g4UAZfaZ4wgo"
      },
      "execution_count": null,
      "outputs": []
    },
    {
      "cell_type": "code",
      "source": [
        "import os, pickle\n",
        "\n",
        "toopen = '/content/drive/MyDrive/vclvariables/extensions.pkl'\n",
        "\n",
        "if os.path.exists(toopen):\n",
        "  with open(toopen, 'rb') as f:\n",
        "      arialines2 = pickle.load(f)\n",
        "\n",
        "for line in arialines2:\n",
        "  print(line)"
      ],
      "metadata": {
        "id": "--HDCkoxCHnT"
      },
      "execution_count": null,
      "outputs": []
    },
    {
      "cell_type": "code",
      "source": [
        "repo_branch = 'nightly' #@param [\"lite\", \"stable\", \"nightly\"]\n",
        "\n",
        "colaboptions = {\n",
        "  \"branch\": repo_branch,\n",
        "  \"filename\": \"stable_diffusion_1_5_webui_colab.ipynb\",\n",
        "  \"part\": \"part2\"\n",
        "} #default\n",
        "\n",
        "\n",
        "print(colaboptions['branch'])"
      ],
      "metadata": {
        "id": "pE0A4A_jGXkR"
      },
      "execution_count": null,
      "outputs": []
    },
    {
      "cell_type": "code",
      "source": [
        "with open('/content/drive/MyDrive/camendurus/nightly/a_certain_model_webui_colab.ipynb', 'r', encoding='utf-8') as f:\n",
        "    for line in f:\n",
        "        stripped_line = line.strip()\n",
        "        if stripped_line.startswith('\"!aria2c'):\n",
        "            # aria2c_lines.append(stripped_line)\n",
        "            print(\"\u001b[1;32m\" + stripped_line)\n",
        "            print('\u001b[0m')\n",
        "        else:\n",
        "          print(stripped_line)"
      ],
      "metadata": {
        "id": "ouZRtBpEMq3V"
      },
      "execution_count": null,
      "outputs": []
    },
    {
      "cell_type": "code",
      "source": [
        "checktest = None\n",
        "with open('/content/drive/MyDrive/arialist.pkl', 'rb') as f:\n",
        "  checktest = pickle.load(f)\n",
        "print(checktest)"
      ],
      "metadata": {
        "id": "jKUgiWbaN-TW"
      },
      "execution_count": null,
      "outputs": []
    }
  ],
  "metadata": {
    "accelerator": "GPU",
    "colab": {
      "private_outputs": true,
      "provenance": [],
      "collapsed_sections": [
        "e78dCt3JZ6UX",
        "0BEVRlWUcbj3"
      ],
      "include_colab_link": true
    },
    "gpuClass": "standard",
    "kernelspec": {
      "display_name": "Python 3",
      "language": "python",
      "name": "python3"
    },
    "language_info": {
      "name": "python",
      "version": "3.9.6"
    },
    "vscode": {
      "interpreter": {
        "hash": "31f2aee4e71d21fbe5cf8b01ff0e069b9275f58929596ceb00d14d90e3e16cd6"
      }
    }
  },
  "nbformat": 4,
  "nbformat_minor": 0
}